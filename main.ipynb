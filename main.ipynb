{
  "nbformat": 4,
  "nbformat_minor": 0,
  "metadata": {
    "colab": {
      "provenance": []
    },
    "kernelspec": {
      "name": "python3",
      "display_name": "Python 3"
    },
    "language_info": {
      "name": "python"
    }
  },
  "cells": [
    {
      "cell_type": "code",
      "execution_count": null,
      "metadata": {
        "id": "vNw0Stf5X2vM"
      },
      "outputs": [],
      "source": [
        "\n",
        "df = spark.read.csv(\"/dbfs/FileStore/claims_data.csv\", header=True, inferSchema=True)\n",
        "df.show()\n",
        "\n",
        "df.describe().show()\n",
        "\n",
        "df.groupBy(\"ProviderID\").sum(\"ClaimAmount\").show()\n",
        "\n",
        "df.filter(df[\"ClaimAmount\"] > 300).show()\n",
        "\n",
        "df.write.parquet(\"/dbfs/FileStore/outputs/high_cost_claims.parquet\")\n"
      ]
    }
  ]
}